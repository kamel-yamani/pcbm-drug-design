{
  "cells": [
    {
      "cell_type": "markdown",
      "metadata": {
        "id": "deqwXbPJPjpA"
      },
      "source": [
        "# HAICK 2023<br/>\n",
        "### PCBM challenge"
      ]
    },
    {
      "cell_type": "markdown",
      "metadata": {
        "id": "ddMstPCX_d7n"
      },
      "source": [
        "# Utils"
      ]
    },
    {
      "cell_type": "code",
      "execution_count": 3,
      "metadata": {
        "colab": {
          "base_uri": "https://localhost:8080/"
        },
        "id": "KvAsVxp5Zv8r",
        "outputId": "acc14953-1773-4835-adc8-1d982e2595e0"
      },
      "outputs": [
        {
          "name": "stdout",
          "output_type": "stream",
          "text": [
            "Downloading pcbm-challenge.zip to /content\n",
            " 80% 41.0M/51.2M [00:00<00:00, 60.7MB/s]\n",
            "100% 51.2M/51.2M [00:00<00:00, 67.3MB/s]\n"
          ]
        }
      ],
      "source": [
        "!kaggle competitions download -c pcbm-challenge"
      ]
    },
    {
      "cell_type": "code",
      "execution_count": 4,
      "metadata": {
        "colab": {
          "base_uri": "https://localhost:8080/"
        },
        "id": "-2SYL2OSZxSB",
        "outputId": "ca65ada9-952e-47d2-a42b-6335526745af"
      },
      "outputs": [
        {
          "name": "stdout",
          "output_type": "stream",
          "text": [
            "Archive:  pcbm-challenge.zip\n",
            "  inflating: ERBB1.csv               \n",
            "  inflating: ERBB2.csv               \n",
            "  inflating: FLT-3.csv               \n",
            "  inflating: HDACL1.csv              \n",
            "  inflating: LCK.csv                 \n",
            "  inflating: sample3.csv             \n",
            "  inflating: test_ERBB1_Target_Descriptors.csv  \n",
            "  inflating: test_ERBB2_Target_Descriptors.csv  \n",
            "  inflating: test_FLT-3_Target_Descriptors.csv  \n",
            "  inflating: test_HDACL1_Target_Descriptors.csv  \n",
            "  inflating: test_LCK_Target_Descriptors.csv  \n"
          ]
        }
      ],
      "source": [
        "!unzip pcbm-challenge.zip "
      ]
    },
    {
      "cell_type": "code",
      "execution_count": 129,
      "metadata": {
        "colab": {
          "base_uri": "https://localhost:8080/"
        },
        "id": "VVugEucJIct-",
        "outputId": "2e2d027b-3e37-4dfe-98c7-ceb24d3ce0ee"
      },
      "outputs": [
        {
          "name": "stdout",
          "output_type": "stream",
          "text": [
            "Looking in indexes: https://pypi.org/simple, https://us-python.pkg.dev/colab-wheels/public/simple/\n",
            "Collecting feature-engine\n",
            "  Downloading feature_engine-1.5.2-py2.py3-none-any.whl (290 kB)\n",
            "\u001b[2K     \u001b[90m━━━━━━━━━━━━━━━━━━━━━━━━━━━━━━━━━━━━━━\u001b[0m \u001b[32m290.0/290.0 KB\u001b[0m \u001b[31m14.3 MB/s\u001b[0m eta \u001b[36m0:00:00\u001b[0m\n",
            "\u001b[?25hRequirement already satisfied: statsmodels>=0.11.1 in /usr/local/lib/python3.8/dist-packages (from feature-engine) (0.12.2)\n",
            "Requirement already satisfied: scipy>=1.4.1 in /usr/local/lib/python3.8/dist-packages (from feature-engine) (1.7.3)\n",
            "Requirement already satisfied: numpy>=1.18.2 in /usr/local/lib/python3.8/dist-packages (from feature-engine) (1.22.4)\n",
            "Requirement already satisfied: pandas>=1.0.3 in /usr/local/lib/python3.8/dist-packages (from feature-engine) (1.3.5)\n",
            "Requirement already satisfied: scikit-learn>=1.0.0 in /usr/local/lib/python3.8/dist-packages (from feature-engine) (1.0.2)\n",
            "Requirement already satisfied: pytz>=2017.3 in /usr/local/lib/python3.8/dist-packages (from pandas>=1.0.3->feature-engine) (2022.7.1)\n",
            "Requirement already satisfied: python-dateutil>=2.7.3 in /usr/local/lib/python3.8/dist-packages (from pandas>=1.0.3->feature-engine) (2.8.2)\n",
            "Requirement already satisfied: threadpoolctl>=2.0.0 in /usr/local/lib/python3.8/dist-packages (from scikit-learn>=1.0.0->feature-engine) (3.1.0)\n",
            "Requirement already satisfied: joblib>=0.11 in /usr/local/lib/python3.8/dist-packages (from scikit-learn>=1.0.0->feature-engine) (1.2.0)\n",
            "Requirement already satisfied: patsy>=0.5 in /usr/local/lib/python3.8/dist-packages (from statsmodels>=0.11.1->feature-engine) (0.5.3)\n",
            "Requirement already satisfied: six in /usr/local/lib/python3.8/dist-packages (from patsy>=0.5->statsmodels>=0.11.1->feature-engine) (1.15.0)\n",
            "Installing collected packages: feature-engine\n",
            "Successfully installed feature-engine-1.5.2\n"
          ]
        }
      ],
      "source": [
        "! pip install feature-engine"
      ]
    },
    {
      "cell_type": "markdown",
      "metadata": {
        "id": "vHs69LHAaSY8"
      },
      "source": [
        "---------------------"
      ]
    },
    {
      "cell_type": "markdown",
      "metadata": {
        "id": "RzojsZ-__pEK"
      },
      "source": [
        "# Data & Packages importations"
      ]
    },
    {
      "cell_type": "code",
      "execution_count": 130,
      "metadata": {
        "id": "IjPXookVaT-R"
      },
      "outputs": [],
      "source": [
        "import numpy as np \n",
        "import pandas as pd \n",
        "\n",
        "from sklearn.model_selection import train_test_split\n",
        "from sklearn.preprocessing import StandardScaler, LabelEncoder\n",
        "\n",
        "import seaborn as sns\n",
        "import matplotlib.pyplot as plt"
      ]
    },
    {
      "cell_type": "code",
      "execution_count": 218,
      "metadata": {
        "id": "nNuHdeF_bN3M"
      },
      "outputs": [],
      "source": [
        "# ERBB1\n",
        "train_df_1 = pd.read_csv('ERBB1.csv')\n",
        "test_df_1 = pd.read_csv('test_ERBB1_Target_Descriptors.csv')\n",
        "\n",
        "# ERBB2\n",
        "train_df_2 = pd.read_csv('ERBB2.csv')\n",
        "test_df_2 = pd.read_csv('test_ERBB2_Target_Descriptors.csv')\n",
        "\n",
        "# FLT-3 \n",
        "train_df_3 = pd.read_csv('FLT-3.csv')\n",
        "test_df_3 = pd.read_csv('test_FLT-3_Target_Descriptors.csv')\n",
        "\n",
        "# HDACL1\n",
        "train_df_4 = pd.read_csv('HDACL1.csv')\n",
        "test_df_4 = pd.read_csv('test_HDACL1_Target_Descriptors.csv')\n",
        "\n",
        "# LcK\n",
        "train_df_5 = pd.read_csv('LCK.csv')\n",
        "test_df_5 = pd.read_csv('test_LCK_Target_Descriptors.csv')"
      ]
    },
    {
      "cell_type": "markdown",
      "metadata": {
        "id": "GBAnN_t3cTY3"
      },
      "source": [
        "# Exploratory Data Analysis"
      ]
    },
    {
      "cell_type": "code",
      "execution_count": 7,
      "metadata": {
        "colab": {
          "base_uri": "https://localhost:8080/",
          "height": 317
        },
        "id": "Old_wMlxdpTv",
        "outputId": "8d330778-8d42-4828-cd29-dbc383b48430"
      },
      "outputs": [
        {
          "data": {
            "text/html": [
              "\n",
              "  <div id=\"df-52002524-55de-4fdf-8ecc-0a9c3bae17bf\">\n",
              "    <div class=\"colab-df-container\">\n",
              "      <div>\n",
              "<style scoped>\n",
              "    .dataframe tbody tr th:only-of-type {\n",
              "        vertical-align: middle;\n",
              "    }\n",
              "\n",
              "    .dataframe tbody tr th {\n",
              "        vertical-align: top;\n",
              "    }\n",
              "\n",
              "    .dataframe thead th {\n",
              "        text-align: right;\n",
              "    }\n",
              "</style>\n",
              "<table border=\"1\" class=\"dataframe\">\n",
              "  <thead>\n",
              "    <tr style=\"text-align: right;\">\n",
              "      <th></th>\n",
              "      <th>Unnamed: 0</th>\n",
              "      <th>CHEMBL_ID</th>\n",
              "      <th>ALogP</th>\n",
              "      <th>ALogp2</th>\n",
              "      <th>AMR</th>\n",
              "      <th>apol</th>\n",
              "      <th>naAromAtom</th>\n",
              "      <th>nAromBond</th>\n",
              "      <th>nAtom</th>\n",
              "      <th>nHeavyAtom</th>\n",
              "      <th>...</th>\n",
              "      <th>AATSC8i</th>\n",
              "      <th>AATSC0s</th>\n",
              "      <th>AATSC1s</th>\n",
              "      <th>AATSC2s</th>\n",
              "      <th>AATSC3s</th>\n",
              "      <th>AATSC4s</th>\n",
              "      <th>AATSC5s</th>\n",
              "      <th>AATSC6s</th>\n",
              "      <th>AATSC7s</th>\n",
              "      <th>AATSC8s</th>\n",
              "    </tr>\n",
              "  </thead>\n",
              "  <tbody>\n",
              "    <tr>\n",
              "      <th>0</th>\n",
              "      <td>0</td>\n",
              "      <td>CHEMBL2064389_1</td>\n",
              "      <td>-0.5467</td>\n",
              "      <td>0.298881</td>\n",
              "      <td>45.8532</td>\n",
              "      <td>61.742653</td>\n",
              "      <td>16</td>\n",
              "      <td>17</td>\n",
              "      <td>53</td>\n",
              "      <td>32</td>\n",
              "      <td>...</td>\n",
              "      <td>-0.267073</td>\n",
              "      <td>2.396760</td>\n",
              "      <td>-0.038196</td>\n",
              "      <td>0.130467</td>\n",
              "      <td>0.270203</td>\n",
              "      <td>-0.005721</td>\n",
              "      <td>-0.061523</td>\n",
              "      <td>0.086750</td>\n",
              "      <td>0.121923</td>\n",
              "      <td>-0.383883</td>\n",
              "    </tr>\n",
              "    <tr>\n",
              "      <th>1</th>\n",
              "      <td>1</td>\n",
              "      <td>CHEMBL3775897_1</td>\n",
              "      <td>-1.8615</td>\n",
              "      <td>3.465182</td>\n",
              "      <td>55.8179</td>\n",
              "      <td>70.440997</td>\n",
              "      <td>16</td>\n",
              "      <td>17</td>\n",
              "      <td>61</td>\n",
              "      <td>32</td>\n",
              "      <td>...</td>\n",
              "      <td>-0.130088</td>\n",
              "      <td>0.812132</td>\n",
              "      <td>0.015281</td>\n",
              "      <td>0.061601</td>\n",
              "      <td>0.058054</td>\n",
              "      <td>0.042514</td>\n",
              "      <td>-0.004266</td>\n",
              "      <td>0.032531</td>\n",
              "      <td>0.089533</td>\n",
              "      <td>-0.146941</td>\n",
              "    </tr>\n",
              "    <tr>\n",
              "      <th>2</th>\n",
              "      <td>2</td>\n",
              "      <td>CHEMBL4084868_1</td>\n",
              "      <td>-0.6346</td>\n",
              "      <td>0.402717</td>\n",
              "      <td>100.9378</td>\n",
              "      <td>99.762513</td>\n",
              "      <td>18</td>\n",
              "      <td>18</td>\n",
              "      <td>86</td>\n",
              "      <td>45</td>\n",
              "      <td>...</td>\n",
              "      <td>-0.156428</td>\n",
              "      <td>0.933019</td>\n",
              "      <td>0.014589</td>\n",
              "      <td>0.080341</td>\n",
              "      <td>-0.003335</td>\n",
              "      <td>-0.063086</td>\n",
              "      <td>-0.103296</td>\n",
              "      <td>0.046651</td>\n",
              "      <td>0.150547</td>\n",
              "      <td>-0.004654</td>\n",
              "    </tr>\n",
              "    <tr>\n",
              "      <th>3</th>\n",
              "      <td>3</td>\n",
              "      <td>CHEMBL2325098_1</td>\n",
              "      <td>0.7808</td>\n",
              "      <td>0.609649</td>\n",
              "      <td>26.0473</td>\n",
              "      <td>61.919067</td>\n",
              "      <td>22</td>\n",
              "      <td>23</td>\n",
              "      <td>47</td>\n",
              "      <td>28</td>\n",
              "      <td>...</td>\n",
              "      <td>0.019200</td>\n",
              "      <td>0.247606</td>\n",
              "      <td>0.001568</td>\n",
              "      <td>-0.026382</td>\n",
              "      <td>-0.006207</td>\n",
              "      <td>-0.021769</td>\n",
              "      <td>-0.012945</td>\n",
              "      <td>0.013427</td>\n",
              "      <td>0.007537</td>\n",
              "      <td>-0.014867</td>\n",
              "    </tr>\n",
              "    <tr>\n",
              "      <th>4</th>\n",
              "      <td>4</td>\n",
              "      <td>CHEMBL2087358_1</td>\n",
              "      <td>-0.2229</td>\n",
              "      <td>0.049684</td>\n",
              "      <td>43.6652</td>\n",
              "      <td>57.223860</td>\n",
              "      <td>16</td>\n",
              "      <td>17</td>\n",
              "      <td>48</td>\n",
              "      <td>28</td>\n",
              "      <td>...</td>\n",
              "      <td>0.059340</td>\n",
              "      <td>0.574681</td>\n",
              "      <td>-0.019619</td>\n",
              "      <td>-0.104170</td>\n",
              "      <td>0.027906</td>\n",
              "      <td>0.020780</td>\n",
              "      <td>-0.012281</td>\n",
              "      <td>-0.016431</td>\n",
              "      <td>-0.053559</td>\n",
              "      <td>0.040081</td>\n",
              "    </tr>\n",
              "  </tbody>\n",
              "</table>\n",
              "<p>5 rows × 256 columns</p>\n",
              "</div>\n",
              "      <button class=\"colab-df-convert\" onclick=\"convertToInteractive('df-52002524-55de-4fdf-8ecc-0a9c3bae17bf')\"\n",
              "              title=\"Convert this dataframe to an interactive table.\"\n",
              "              style=\"display:none;\">\n",
              "        \n",
              "  <svg xmlns=\"http://www.w3.org/2000/svg\" height=\"24px\"viewBox=\"0 0 24 24\"\n",
              "       width=\"24px\">\n",
              "    <path d=\"M0 0h24v24H0V0z\" fill=\"none\"/>\n",
              "    <path d=\"M18.56 5.44l.94 2.06.94-2.06 2.06-.94-2.06-.94-.94-2.06-.94 2.06-2.06.94zm-11 1L8.5 8.5l.94-2.06 2.06-.94-2.06-.94L8.5 2.5l-.94 2.06-2.06.94zm10 10l.94 2.06.94-2.06 2.06-.94-2.06-.94-.94-2.06-.94 2.06-2.06.94z\"/><path d=\"M17.41 7.96l-1.37-1.37c-.4-.4-.92-.59-1.43-.59-.52 0-1.04.2-1.43.59L10.3 9.45l-7.72 7.72c-.78.78-.78 2.05 0 2.83L4 21.41c.39.39.9.59 1.41.59.51 0 1.02-.2 1.41-.59l7.78-7.78 2.81-2.81c.8-.78.8-2.07 0-2.86zM5.41 20L4 18.59l7.72-7.72 1.47 1.35L5.41 20z\"/>\n",
              "  </svg>\n",
              "      </button>\n",
              "      \n",
              "  <style>\n",
              "    .colab-df-container {\n",
              "      display:flex;\n",
              "      flex-wrap:wrap;\n",
              "      gap: 12px;\n",
              "    }\n",
              "\n",
              "    .colab-df-convert {\n",
              "      background-color: #E8F0FE;\n",
              "      border: none;\n",
              "      border-radius: 50%;\n",
              "      cursor: pointer;\n",
              "      display: none;\n",
              "      fill: #1967D2;\n",
              "      height: 32px;\n",
              "      padding: 0 0 0 0;\n",
              "      width: 32px;\n",
              "    }\n",
              "\n",
              "    .colab-df-convert:hover {\n",
              "      background-color: #E2EBFA;\n",
              "      box-shadow: 0px 1px 2px rgba(60, 64, 67, 0.3), 0px 1px 3px 1px rgba(60, 64, 67, 0.15);\n",
              "      fill: #174EA6;\n",
              "    }\n",
              "\n",
              "    [theme=dark] .colab-df-convert {\n",
              "      background-color: #3B4455;\n",
              "      fill: #D2E3FC;\n",
              "    }\n",
              "\n",
              "    [theme=dark] .colab-df-convert:hover {\n",
              "      background-color: #434B5C;\n",
              "      box-shadow: 0px 1px 3px 1px rgba(0, 0, 0, 0.15);\n",
              "      filter: drop-shadow(0px 1px 2px rgba(0, 0, 0, 0.3));\n",
              "      fill: #FFFFFF;\n",
              "    }\n",
              "  </style>\n",
              "\n",
              "      <script>\n",
              "        const buttonEl =\n",
              "          document.querySelector('#df-52002524-55de-4fdf-8ecc-0a9c3bae17bf button.colab-df-convert');\n",
              "        buttonEl.style.display =\n",
              "          google.colab.kernel.accessAllowed ? 'block' : 'none';\n",
              "\n",
              "        async function convertToInteractive(key) {\n",
              "          const element = document.querySelector('#df-52002524-55de-4fdf-8ecc-0a9c3bae17bf');\n",
              "          const dataTable =\n",
              "            await google.colab.kernel.invokeFunction('convertToInteractive',\n",
              "                                                     [key], {});\n",
              "          if (!dataTable) return;\n",
              "\n",
              "          const docLinkHtml = 'Like what you see? Visit the ' +\n",
              "            '<a target=\"_blank\" href=https://colab.research.google.com/notebooks/data_table.ipynb>data table notebook</a>'\n",
              "            + ' to learn more about interactive tables.';\n",
              "          element.innerHTML = '';\n",
              "          dataTable['output_type'] = 'display_data';\n",
              "          await google.colab.output.renderOutput(dataTable, element);\n",
              "          const docLink = document.createElement('div');\n",
              "          docLink.innerHTML = docLinkHtml;\n",
              "          element.appendChild(docLink);\n",
              "        }\n",
              "      </script>\n",
              "    </div>\n",
              "  </div>\n",
              "  "
            ],
            "text/plain": [
              "   Unnamed: 0        CHEMBL_ID   ALogP    ALogp2       AMR       apol  \\\n",
              "0           0  CHEMBL2064389_1 -0.5467  0.298881   45.8532  61.742653   \n",
              "1           1  CHEMBL3775897_1 -1.8615  3.465182   55.8179  70.440997   \n",
              "2           2  CHEMBL4084868_1 -0.6346  0.402717  100.9378  99.762513   \n",
              "3           3  CHEMBL2325098_1  0.7808  0.609649   26.0473  61.919067   \n",
              "4           4  CHEMBL2087358_1 -0.2229  0.049684   43.6652  57.223860   \n",
              "\n",
              "   naAromAtom  nAromBond  nAtom  nHeavyAtom  ...   AATSC8i   AATSC0s  \\\n",
              "0          16         17     53          32  ... -0.267073  2.396760   \n",
              "1          16         17     61          32  ... -0.130088  0.812132   \n",
              "2          18         18     86          45  ... -0.156428  0.933019   \n",
              "3          22         23     47          28  ...  0.019200  0.247606   \n",
              "4          16         17     48          28  ...  0.059340  0.574681   \n",
              "\n",
              "    AATSC1s   AATSC2s   AATSC3s   AATSC4s   AATSC5s   AATSC6s   AATSC7s  \\\n",
              "0 -0.038196  0.130467  0.270203 -0.005721 -0.061523  0.086750  0.121923   \n",
              "1  0.015281  0.061601  0.058054  0.042514 -0.004266  0.032531  0.089533   \n",
              "2  0.014589  0.080341 -0.003335 -0.063086 -0.103296  0.046651  0.150547   \n",
              "3  0.001568 -0.026382 -0.006207 -0.021769 -0.012945  0.013427  0.007537   \n",
              "4 -0.019619 -0.104170  0.027906  0.020780 -0.012281 -0.016431 -0.053559   \n",
              "\n",
              "    AATSC8s  \n",
              "0 -0.383883  \n",
              "1 -0.146941  \n",
              "2 -0.004654  \n",
              "3 -0.014867  \n",
              "4  0.040081  \n",
              "\n",
              "[5 rows x 256 columns]"
            ]
          },
          "execution_count": 7,
          "metadata": {},
          "output_type": "execute_result"
        }
      ],
      "source": [
        "test_df_1.head()"
      ]
    },
    {
      "cell_type": "markdown",
      "metadata": {
        "id": "adTt4nbxcXfx"
      },
      "source": [
        "# Data Preprocessing and Cleaning"
      ]
    },
    {
      "cell_type": "code",
      "execution_count": 219,
      "metadata": {
        "id": "gGZGQmuJlaKT"
      },
      "outputs": [],
      "source": [
        "train_df_1['Activity'] = train_df_1['Activity'].map({'active': 1, 'nonactive': 0})\n",
        "train_df_2['Activity'] = train_df_2['Activity'].map({'active': 1, 'nonactive': 0})\n",
        "train_df_3['Activity'] = train_df_3['Activity'].map({'active': 1, 'nonactive': 0})\n",
        "train_df_4['Activity'] = train_df_4['Activity'].map({'active': 1, 'nonactive': 0})\n",
        "train_df_5['Activity'] = train_df_5['Activity'].map({'active': 1, 'nonactive': 0})"
      ]
    },
    {
      "cell_type": "code",
      "execution_count": 220,
      "metadata": {
        "id": "2rcqrXOznToR"
      },
      "outputs": [],
      "source": [
        "train_df_1.drop('CHEMBL_ID', axis=1, inplace=True)\n",
        "train_df_2.drop('CHEMBL_ID', axis=1, inplace=True)\n",
        "train_df_3.drop('CHEMBL_ID', axis=1, inplace=True)\n",
        "train_df_4.drop('CHEMBL_ID', axis=1, inplace=True)\n",
        "train_df_5.drop('CHEMBL_ID', axis=1, inplace=True)"
      ]
    },
    {
      "cell_type": "code",
      "execution_count": 221,
      "metadata": {
        "colab": {
          "base_uri": "https://localhost:8080/"
        },
        "id": "_f7qIFPrqdtJ",
        "outputId": "20cc8201-1c63-4690-d74e-fe041233071e"
      },
      "outputs": [
        {
          "data": {
            "text/plain": [
              "count    255.000000\n",
              "mean       1.129412\n",
              "std        2.791106\n",
              "min        0.000000\n",
              "25%        0.000000\n",
              "50%        0.000000\n",
              "75%        0.000000\n",
              "max        8.000000\n",
              "dtype: float64"
            ]
          },
          "execution_count": 221,
          "metadata": {},
          "output_type": "execute_result"
        }
      ],
      "source": [
        "# Count the number of NaN values in each column\n",
        "nan_counts = train_df_1.isna().sum()\n",
        "nan_counts.describe()"
      ]
    },
    {
      "cell_type": "code",
      "execution_count": 222,
      "metadata": {
        "id": "K8toqEq0q3Id"
      },
      "outputs": [],
      "source": [
        "train_df_1 = train_df_1.fillna(0)\n",
        "train_df_2 = train_df_2.fillna(0)\n",
        "train_df_3 = train_df_3.fillna(0)\n",
        "train_df_4 = train_df_4.fillna(0)\n",
        "train_df_5 = train_df_5.fillna(0)"
      ]
    },
    {
      "cell_type": "markdown",
      "metadata": {
        "id": "0yhGYJircadu"
      },
      "source": [
        "# Feature Engineering"
      ]
    },
    {
      "cell_type": "code",
      "execution_count": null,
      "metadata": {
        "id": "eB7dFEUFs4_l"
      },
      "outputs": [],
      "source": [
        "! pip install featurewiz"
      ]
    },
    {
      "cell_type": "code",
      "execution_count": null,
      "metadata": {
        "id": "eVV8vdLPs_2N"
      },
      "outputs": [],
      "source": [
        "from featurewiz import featurewiz\n",
        "# import optuna"
      ]
    },
    {
      "cell_type": "code",
      "execution_count": null,
      "metadata": {
        "id": "aPbBrwa23dnc"
      },
      "outputs": [],
      "source": [
        "# automatic feature selection by using featurewiz package\n",
        "target = 'Activity'\n",
        " \n",
        "features_1, train = featurewiz(train_df_1, target, corr_limit=0.7, verbose=2, sep=\",\",\n",
        "header=0,test_data=\"\", feature_engg=\"\", category_encoders=\"\")\n",
        "train_df_1 = train\n",
        "\n",
        "features_2, train = featurewiz(train_df_2, target, corr_limit=0.7, verbose=2, sep=\",\",\n",
        "header=0,test_data=\"\", feature_engg=\"\", category_encoders=\"\")\n",
        "train_df_2 = train\n",
        "\n",
        "features_3, train = featurewiz(train_df_3, target, corr_limit=0.7, verbose=2, sep=\",\",\n",
        "header=0,test_data=\"\", feature_engg=\"\", category_encoders=\"\")\n",
        "train_df_3 = train\n",
        "\n",
        "features_4, train = featurewiz(train_df_4, target, corr_limit=0.7, verbose=2, sep=\",\",\n",
        "header=0,test_data=\"\", feature_engg=\"\", category_encoders=\"\")\n",
        "train_df_4 = train\n",
        "\n",
        "features4, train = featurewiz(train_df_5, target, corr_limit=0.9, verbose=0, sep=\",\",\n",
        "header=0,test_data=\"\", feature_engg=\"\", category_encoders=\"\")\n",
        "train_df_5 = train"
      ]
    },
    {
      "cell_type": "markdown",
      "metadata": {
        "id": "nguYIHNrcdZr"
      },
      "source": [
        "# Model Building"
      ]
    },
    {
      "cell_type": "code",
      "execution_count": 223,
      "metadata": {
        "id": "9rXig3oAoUaM"
      },
      "outputs": [],
      "source": [
        "from sklearn.linear_model import LogisticRegression\n",
        "from sklearn.tree import DecisionTreeClassifier\n",
        "from sklearn.ensemble import RandomForestClassifier, AdaBoostClassifier\n",
        "from sklearn.neural_network import MLPClassifier\n",
        "from sklearn.linear_model import Perceptron\n",
        "from sklearn.naive_bayes import GaussianNB\n",
        "from sklearn.neighbors import KNeighborsClassifier\n",
        "from sklearn.svm import SVC\n",
        "from xgboost import XGBClassifier\n",
        "\n",
        "from sklearn.metrics import accuracy_score, classification_report, f1_score"
      ]
    },
    {
      "cell_type": "markdown",
      "metadata": {
        "id": "wbGABBrn3JN3"
      },
      "source": [
        "#### Model 1"
      ]
    },
    {
      "cell_type": "code",
      "execution_count": 224,
      "metadata": {
        "id": "jVuqqerkuEA1"
      },
      "outputs": [],
      "source": [
        "# Extract the features and target variable\n",
        "X_1 = train_df_1.drop('Activity', axis=1)\n",
        "y_1 = train_df_1['Activity']\n",
        "\n",
        "# Split the data into training and validation sets\n",
        "X_train_1, X_val_1, y_train_1, y_val_1 = train_test_split(X_1, y_1, test_size=0.2, random_state=42)\n",
        "\n",
        "# Create a scaler object and fit it on the training data\n",
        "scaler_1 = StandardScaler()\n",
        "scaler_1.fit(X_train_1)\n",
        "\n",
        "# Transform the training and validation data using the scaler\n",
        "X_train_scaled_1 = scaler_1.transform(X_train_1)\n",
        "X_val_scaled_1 = scaler_1.transform(X_val_1)"
      ]
    },
    {
      "cell_type": "code",
      "execution_count": 226,
      "metadata": {
        "colab": {
          "base_uri": "https://localhost:8080/"
        },
        "id": "PF1ISVodontP",
        "outputId": "73f31e3f-f794-4262-b060-b7626c347ebe"
      },
      "outputs": [
        {
          "name": "stdout",
          "output_type": "stream",
          "text": [
            "Extreme Gradient Boosting:\n",
            "Accuracy: 0.7710371819960861\n",
            "F1 Score: 0.7715838846954306\n",
            "Classification Report:               precision    recall  f1-score   support\n",
            "\n",
            "           0       0.81      0.78      0.79       578\n",
            "           1       0.73      0.76      0.74       444\n",
            "\n",
            "    accuracy                           0.77      1022\n",
            "   macro avg       0.77      0.77      0.77      1022\n",
            "weighted avg       0.77      0.77      0.77      1022\n",
            "\n",
            "Random Forest:\n",
            "Accuracy: 0.7984344422700587\n",
            "F1 Score: 0.7978262512630833\n",
            "Classification Report:               precision    recall  f1-score   support\n",
            "\n",
            "           0       0.81      0.84      0.82       578\n",
            "           1       0.78      0.75      0.76       444\n",
            "\n",
            "    accuracy                           0.80      1022\n",
            "   macro avg       0.80      0.79      0.79      1022\n",
            "weighted avg       0.80      0.80      0.80      1022\n",
            "\n",
            "Support Vector Machine (Linear):\n",
            "Accuracy: 0.7925636007827789\n",
            "F1 Score: 0.7924519366265456\n",
            "Classification Report:               precision    recall  f1-score   support\n",
            "\n",
            "           0       0.81      0.82      0.82       578\n",
            "           1       0.76      0.76      0.76       444\n",
            "\n",
            "    accuracy                           0.79      1022\n",
            "   macro avg       0.79      0.79      0.79      1022\n",
            "weighted avg       0.79      0.79      0.79      1022\n",
            "\n",
            "AdaBoost Classifier:\n",
            "Accuracy: 0.7113502935420744\n",
            "F1 Score: 0.7119618757038888\n",
            "Classification Report:               precision    recall  f1-score   support\n",
            "\n",
            "           0       0.75      0.73      0.74       578\n",
            "           1       0.66      0.69      0.67       444\n",
            "\n",
            "    accuracy                           0.71      1022\n",
            "   macro avg       0.71      0.71      0.71      1022\n",
            "weighted avg       0.71      0.71      0.71      1022\n",
            "\n"
          ]
        }
      ],
      "source": [
        "# Define models to fit and evaluate\n",
        "models = {\n",
        "    'Extreme Gradient Boosting': XGBClassifier(),\n",
        "    'Random Forest' : RandomForestClassifier(n_estimators=100),\n",
        "    'Support Vector Machine (Linear)': SVC(),\n",
        "    'AdaBoost Classifier': AdaBoostClassifier(),\n",
        "}\n",
        "\n",
        "# Fit and evaluate each model\n",
        "for name, model in models.items():\n",
        "    # Fit the model\n",
        "    model.fit(X_train_scaled_1, y_train_1)\n",
        "    \n",
        "    # Predict on test set\n",
        "    y_pred_1 = model.predict(X_val_scaled_1)\n",
        "    \n",
        "    # Print results\n",
        "    print(f'{name}:')\n",
        "    acc = accuracy_score(y_val_1, y_pred_1)\n",
        "    f1 = f1_score(y_val_1, y_pred_1, average='weighted')\n",
        "    report = classification_report(y_val_1, y_pred_1)\n",
        "    \n",
        "    print(\"Accuracy:\", acc)\n",
        "    print('F1 Score:', f1)\n",
        "    print('Classification Report:', report)\n"
      ]
    },
    {
      "cell_type": "markdown",
      "metadata": {
        "id": "MDoRgn0w3ODD"
      },
      "source": [
        "#### Model 2"
      ]
    },
    {
      "cell_type": "code",
      "execution_count": 227,
      "metadata": {
        "id": "IbxQ6TUi3hEU"
      },
      "outputs": [],
      "source": [
        "# Extract the features and target variable\n",
        "X_2 = train_df_2.drop('Activity', axis=1)\n",
        "y_2 = train_df_2['Activity']\n",
        "\n",
        "# Split the data into training and validation sets\n",
        "X_train_2, X_val_2, y_train_2, y_val_2 = train_test_split(X_2, y_2, test_size=0.2, random_state=42)\n",
        "\n",
        "# Create a scaler object and fit it on the training data\n",
        "scaler_2 = StandardScaler()\n",
        "scaler_2.fit(X_train_2)\n",
        "\n",
        "# Transform the training and validation data using the scaler\n",
        "X_train_scaled_2 = scaler_2.transform(X_train_2)\n",
        "X_val_scaled_2 = scaler_2.transform(X_val_2)"
      ]
    },
    {
      "cell_type": "code",
      "execution_count": 230,
      "metadata": {
        "colab": {
          "base_uri": "https://localhost:8080/"
        },
        "id": "LjBurp5g3hEW",
        "outputId": "bf52ef6b-76f8-432c-d5e5-8cac1ee72b82"
      },
      "outputs": [
        {
          "name": "stdout",
          "output_type": "stream",
          "text": [
            "Logistic Regression:\n",
            "Accuracy: 0.7481751824817519\n",
            "F1 Score: 0.7477746182284769\n",
            "Classification Report:               precision    recall  f1-score   support\n",
            "\n",
            "           0       0.77      0.79      0.78       155\n",
            "           1       0.72      0.70      0.71       119\n",
            "\n",
            "    accuracy                           0.75       274\n",
            "   macro avg       0.74      0.74      0.74       274\n",
            "weighted avg       0.75      0.75      0.75       274\n",
            "\n",
            "Random Forest:\n",
            "Accuracy: 0.8357664233576643\n",
            "F1 Score: 0.8358442581220205\n",
            "Classification Report:               precision    recall  f1-score   support\n",
            "\n",
            "           0       0.86      0.85      0.85       155\n",
            "           1       0.81      0.82      0.81       119\n",
            "\n",
            "    accuracy                           0.84       274\n",
            "   macro avg       0.83      0.83      0.83       274\n",
            "weighted avg       0.84      0.84      0.84       274\n",
            "\n",
            "K-Nearest Neighbors:\n",
            "Accuracy: 0.781021897810219\n",
            "F1 Score: 0.7819260866706121\n",
            "Classification Report:               precision    recall  f1-score   support\n",
            "\n",
            "           0       0.84      0.76      0.80       155\n",
            "           1       0.72      0.81      0.76       119\n",
            "\n",
            "    accuracy                           0.78       274\n",
            "   macro avg       0.78      0.78      0.78       274\n",
            "weighted avg       0.79      0.78      0.78       274\n",
            "\n",
            "Support Vector Machine:\n",
            "Accuracy: 0.843065693430657\n",
            "F1 Score: 0.8428160664322393\n",
            "Classification Report:               precision    recall  f1-score   support\n",
            "\n",
            "           0       0.85      0.87      0.86       155\n",
            "           1       0.83      0.81      0.82       119\n",
            "\n",
            "    accuracy                           0.84       274\n",
            "   macro avg       0.84      0.84      0.84       274\n",
            "weighted avg       0.84      0.84      0.84       274\n",
            "\n",
            "Extreme Gradient Boosting:\n",
            "Accuracy: 0.8540145985401459\n",
            "F1 Score: 0.8542669365105838\n",
            "Classification Report:               precision    recall  f1-score   support\n",
            "\n",
            "           0       0.88      0.86      0.87       155\n",
            "           1       0.82      0.85      0.83       119\n",
            "\n",
            "    accuracy                           0.85       274\n",
            "   macro avg       0.85      0.85      0.85       274\n",
            "weighted avg       0.85      0.85      0.85       274\n",
            "\n"
          ]
        }
      ],
      "source": [
        "# Define models to fit and evaluate\n",
        "models = {\n",
        "    'Logistic Regression' : LogisticRegression(),\n",
        "    'Random Forest' : RandomForestClassifier(n_estimators=200, max_depth=40),\n",
        "    'K-Nearest Neighbors': KNeighborsClassifier(),\n",
        "    'Support Vector Machine': SVC(),\n",
        "    'Extreme Gradient Boosting': XGBClassifier()\n",
        "}\n",
        "\n",
        "# Fit and evaluate each model\n",
        "for name, model in models.items():\n",
        "    # Fit the model\n",
        "    model.fit(X_train_scaled_2, y_train_2)\n",
        "    \n",
        "    # Predict on test set\n",
        "    y_pred_2 = model.predict(X_val_scaled_2)\n",
        "    \n",
        "    # Print results\n",
        "    print(f'{name}:')\n",
        "    acc = accuracy_score(y_val_2, y_pred_2)\n",
        "    f1 = f1_score(y_val_2, y_pred_2, average='weighted')\n",
        "    report = classification_report(y_val_2, y_pred_2)\n",
        "    \n",
        "    print(\"Accuracy:\", acc)\n",
        "    print('F1 Score:', f1)\n",
        "    print('Classification Report:', report)\n"
      ]
    },
    {
      "cell_type": "markdown",
      "metadata": {
        "id": "naPcmQaD5xNv"
      },
      "source": [
        "#### Model 3"
      ]
    },
    {
      "cell_type": "code",
      "execution_count": 229,
      "metadata": {
        "id": "GlbuSnH-54TJ"
      },
      "outputs": [],
      "source": [
        "# Extract the features and target variable\n",
        "X_3 = train_df_3.drop('Activity', axis=1)\n",
        "y_3 = train_df_3['Activity']\n",
        "\n",
        "# Split the data into training and validation sets\n",
        "X_train_3, X_val_3, y_train_3, y_val_3 = train_test_split(X_3, y_3, test_size=0.2, random_state=42)\n",
        "\n",
        "# Create a scaler object and fit it on the training data\n",
        "scaler_3 = StandardScaler()\n",
        "scaler_3.fit(X_train_3)\n",
        "\n",
        "# Transform the training and validation data using the scaler\n",
        "X_train_scaled_3 = scaler_3.transform(X_train_3)\n",
        "X_val_scaled_3 = scaler_3.transform(X_val_3)"
      ]
    },
    {
      "cell_type": "code",
      "execution_count": 231,
      "metadata": {
        "colab": {
          "base_uri": "https://localhost:8080/"
        },
        "id": "pSlD8_H_54TL",
        "outputId": "02da500d-ded1-4ff5-ef3b-c67371f00dde"
      },
      "outputs": [
        {
          "name": "stdout",
          "output_type": "stream",
          "text": [
            "Logistic Regression:\n",
            "Accuracy: 0.7736486486486487\n",
            "F1 Score: 0.7719664471089791\n",
            "Classification Report:               precision    recall  f1-score   support\n",
            "\n",
            "           0       0.75      0.69      0.72       125\n",
            "           1       0.79      0.84      0.81       171\n",
            "\n",
            "    accuracy                           0.77       296\n",
            "   macro avg       0.77      0.76      0.76       296\n",
            "weighted avg       0.77      0.77      0.77       296\n",
            "\n",
            "Decision Tree:\n",
            "Accuracy: 0.6959459459459459\n",
            "F1 Score: 0.6943951625769808\n",
            "Classification Report:               precision    recall  f1-score   support\n",
            "\n",
            "           0       0.65      0.61      0.63       125\n",
            "           1       0.73      0.76      0.74       171\n",
            "\n",
            "    accuracy                           0.70       296\n",
            "   macro avg       0.69      0.68      0.69       296\n",
            "weighted avg       0.69      0.70      0.69       296\n",
            "\n",
            "Random Forest:\n",
            "Accuracy: 0.8243243243243243\n",
            "F1 Score: 0.8222440317412385\n",
            "Classification Report:               precision    recall  f1-score   support\n",
            "\n",
            "           0       0.83      0.73      0.78       125\n",
            "           1       0.82      0.89      0.85       171\n",
            "\n",
            "    accuracy                           0.82       296\n",
            "   macro avg       0.83      0.81      0.82       296\n",
            "weighted avg       0.83      0.82      0.82       296\n",
            "\n",
            "K-Nearest Neighbors:\n",
            "Accuracy: 0.7837837837837838\n",
            "F1 Score: 0.7808014911463188\n",
            "Classification Report:               precision    recall  f1-score   support\n",
            "\n",
            "           0       0.79      0.67      0.72       125\n",
            "           1       0.78      0.87      0.82       171\n",
            "\n",
            "    accuracy                           0.78       296\n",
            "   macro avg       0.78      0.77      0.77       296\n",
            "weighted avg       0.78      0.78      0.78       296\n",
            "\n",
            "Support Vector Machine:\n",
            "Accuracy: 0.7905405405405406\n",
            "F1 Score: 0.7894722231085867\n",
            "Classification Report:               precision    recall  f1-score   support\n",
            "\n",
            "           0       0.77      0.72      0.74       125\n",
            "           1       0.80      0.84      0.82       171\n",
            "\n",
            "    accuracy                           0.79       296\n",
            "   macro avg       0.79      0.78      0.78       296\n",
            "weighted avg       0.79      0.79      0.79       296\n",
            "\n",
            "Extreme Gradient Boosting:\n",
            "Accuracy: 0.8006756756756757\n",
            "F1 Score: 0.7998037037355725\n",
            "Classification Report:               precision    recall  f1-score   support\n",
            "\n",
            "           0       0.78      0.74      0.76       125\n",
            "           1       0.81      0.85      0.83       171\n",
            "\n",
            "    accuracy                           0.80       296\n",
            "   macro avg       0.80      0.79      0.79       296\n",
            "weighted avg       0.80      0.80      0.80       296\n",
            "\n"
          ]
        }
      ],
      "source": [
        "# Define models to fit and evaluate\n",
        "models = {\n",
        "    'Logistic Regression' : LogisticRegression(),\n",
        "    'Decision Tree' : DecisionTreeClassifier(),\n",
        "    'Random Forest' : RandomForestClassifier(n_estimators=200),\n",
        "    'K-Nearest Neighbors': KNeighborsClassifier(),\n",
        "    'Support Vector Machine': SVC(),\n",
        "    'Extreme Gradient Boosting': XGBClassifier()\n",
        "}\n",
        "\n",
        "# Fit and evaluate each model\n",
        "for name, model in models.items():\n",
        "    # Fit the model\n",
        "    model.fit(X_train_scaled_3, y_train_3)\n",
        "    \n",
        "    # Predict on test set\n",
        "    y_pred_3 = model.predict(X_val_scaled_3)\n",
        "    \n",
        "    # Print results\n",
        "    print(f'{name}:')\n",
        "    acc = accuracy_score(y_val_3, y_pred_3)\n",
        "    f1 = f1_score(y_val_3, y_pred_3, average='weighted')\n",
        "    report = classification_report(y_val_3, y_pred_3)\n",
        "    \n",
        "    print(\"Accuracy:\", acc)\n",
        "    print('F1 Score:', f1)\n",
        "    print('Classification Report:', report)\n"
      ]
    },
    {
      "cell_type": "markdown",
      "metadata": {
        "id": "nIIxCPTO9up-"
      },
      "source": [
        "#### Model 4"
      ]
    },
    {
      "cell_type": "code",
      "execution_count": 233,
      "metadata": {
        "id": "PV87Q-am9yDA"
      },
      "outputs": [],
      "source": [
        "# Extract the features and target variable\n",
        "X_4 = train_df_4.drop('Activity', axis=1)\n",
        "y_4 = train_df_4['Activity']\n",
        "\n",
        "\n",
        "# Split the data into training and validation sets\n",
        "X_train_4, X_val_4, y_train_4, y_val_4 = train_test_split(X_4, y_4, test_size=0.2, random_state=42)\n",
        "\n",
        "# Create a scaler object and fit it on the training data\n",
        "scaler_4 = StandardScaler()\n",
        "scaler_4.fit(X_train_4)\n",
        "\n",
        "# Transform the training and validation data using the scaler\n",
        "X_train_scaled_4 = scaler_4.transform(X_train_4)\n",
        "X_val_scaled_4 = scaler_4.transform(X_val_4)"
      ]
    },
    {
      "cell_type": "code",
      "execution_count": 234,
      "metadata": {
        "colab": {
          "base_uri": "https://localhost:8080/"
        },
        "id": "-iStFbHs9yDB",
        "outputId": "d16cb43d-e326-4ef5-82d4-fe413bbe066f"
      },
      "outputs": [
        {
          "name": "stdout",
          "output_type": "stream",
          "text": [
            "Logistic Regression:\n",
            "Accuracy: 0.793918918918919\n",
            "F1 Score: 0.7944105302719371\n",
            "Classification Report:               precision    recall  f1-score   support\n",
            "\n",
            "           0       0.83      0.81      0.82       171\n",
            "           1       0.75      0.78      0.76       125\n",
            "\n",
            "    accuracy                           0.79       296\n",
            "   macro avg       0.79      0.79      0.79       296\n",
            "weighted avg       0.80      0.79      0.79       296\n",
            "\n",
            "Decision Tree:\n",
            "Accuracy: 0.7195945945945946\n",
            "F1 Score: 0.7148484783458979\n",
            "Classification Report:               precision    recall  f1-score   support\n",
            "\n",
            "           0       0.73      0.82      0.77       171\n",
            "           1       0.70      0.58      0.64       125\n",
            "\n",
            "    accuracy                           0.72       296\n",
            "   macro avg       0.72      0.70      0.70       296\n",
            "weighted avg       0.72      0.72      0.71       296\n",
            "\n",
            "Random Forest:\n",
            "Accuracy: 0.8040540540540541\n",
            "F1 Score: 0.8000743017789297\n",
            "Classification Report:               precision    recall  f1-score   support\n",
            "\n",
            "           0       0.79      0.90      0.84       171\n",
            "           1       0.83      0.67      0.74       125\n",
            "\n",
            "    accuracy                           0.80       296\n",
            "   macro avg       0.81      0.79      0.79       296\n",
            "weighted avg       0.81      0.80      0.80       296\n",
            "\n",
            "Perceptron:\n",
            "Accuracy: 0.7635135135135135\n",
            "F1 Score: 0.76482253968531\n",
            "Classification Report:               precision    recall  f1-score   support\n",
            "\n",
            "           0       0.83      0.75      0.79       171\n",
            "           1       0.70      0.78      0.74       125\n",
            "\n",
            "    accuracy                           0.76       296\n",
            "   macro avg       0.76      0.77      0.76       296\n",
            "weighted avg       0.77      0.76      0.76       296\n",
            "\n",
            "K-Nearest Neighbors:\n",
            "Accuracy: 0.793918918918919\n",
            "F1 Score: 0.7938055112262145\n",
            "Classification Report:               precision    recall  f1-score   support\n",
            "\n",
            "           0       0.82      0.82      0.82       171\n",
            "           1       0.76      0.75      0.76       125\n",
            "\n",
            "    accuracy                           0.79       296\n",
            "   macro avg       0.79      0.79      0.79       296\n",
            "weighted avg       0.79      0.79      0.79       296\n",
            "\n",
            "Support Vector Machine:\n",
            "Accuracy: 0.7905405405405406\n",
            "F1 Score: 0.7862863225912698\n",
            "Classification Report:               precision    recall  f1-score   support\n",
            "\n",
            "           0       0.78      0.89      0.83       171\n",
            "           1       0.81      0.66      0.73       125\n",
            "\n",
            "    accuracy                           0.79       296\n",
            "   macro avg       0.80      0.77      0.78       296\n",
            "weighted avg       0.79      0.79      0.79       296\n",
            "\n",
            "Extreme Gradient Boosting:\n",
            "Accuracy: 0.8108108108108109\n",
            "F1 Score: 0.8082013047530289\n",
            "Classification Report:               precision    recall  f1-score   support\n",
            "\n",
            "           0       0.80      0.89      0.84       171\n",
            "           1       0.82      0.70      0.76       125\n",
            "\n",
            "    accuracy                           0.81       296\n",
            "   macro avg       0.81      0.80      0.80       296\n",
            "weighted avg       0.81      0.81      0.81       296\n",
            "\n"
          ]
        }
      ],
      "source": [
        "# Define models to fit and evaluate\n",
        "models = {\n",
        "    'Logistic Regression' : LogisticRegression(),\n",
        "    'Decision Tree' : DecisionTreeClassifier(),\n",
        "    'Random Forest' : RandomForestClassifier(n_estimators=200),\n",
        "    'Perceptron': Perceptron(),\n",
        "    'K-Nearest Neighbors': KNeighborsClassifier(),\n",
        "    'Support Vector Machine': SVC(),\n",
        "    'Extreme Gradient Boosting': XGBClassifier()\n",
        "}\n",
        "\n",
        "# Fit and evaluate each model\n",
        "for name, model in models.items():\n",
        "    # Fit the model\n",
        "    model.fit(X_train_scaled_4, y_train_4)\n",
        "    \n",
        "    # Predict on test set\n",
        "    y_pred_4 = model.predict(X_val_scaled_4)\n",
        "    \n",
        "    # Print results\n",
        "    print(f'{name}:')\n",
        "    acc = accuracy_score(y_val_4, y_pred_4)\n",
        "    f1 = f1_score(y_val_4, y_pred_4, average='weighted')\n",
        "    report = classification_report(y_val_4, y_pred_4)\n",
        "    \n",
        "    print(\"Accuracy:\", acc)\n",
        "    print('F1 Score:', f1)\n",
        "    print('Classification Report:', report)\n"
      ]
    },
    {
      "cell_type": "markdown",
      "metadata": {
        "id": "7ND-Tger-Zff"
      },
      "source": [
        "#### Model 5"
      ]
    },
    {
      "cell_type": "code",
      "execution_count": 235,
      "metadata": {
        "id": "R-dn2nC_-ccw"
      },
      "outputs": [],
      "source": [
        "# Extract the features and target variable\n",
        "X_5 = train_df_5.drop('Activity', axis=1)\n",
        "y_5 = train_df_5['Activity']\n",
        "\n",
        "\n",
        "# # Split the data into training and validation sets\n",
        "X_train_5, X_val_5, y_train_5, y_val_5 = train_test_split(X_5, y_5, test_size=0.2, random_state=42)\n",
        "\n",
        "# Create a scaler object and fit it on the training data\n",
        "scaler_5 = StandardScaler()\n",
        "scaler_5.fit(X_train_5)\n",
        "\n",
        "# Transform the training and validation data using the scaler\n",
        "X_train_scaled_5 = scaler_5.transform(X_train_5)\n",
        "X_val_scaled_5 = scaler_5.transform(X_val_5)"
      ]
    },
    {
      "cell_type": "code",
      "execution_count": 237,
      "metadata": {
        "colab": {
          "base_uri": "https://localhost:8080/"
        },
        "id": "K5gpMf0M-ccx",
        "outputId": "f9db0c00-74af-4a73-e0cc-e0c2eab0f989"
      },
      "outputs": [
        {
          "name": "stdout",
          "output_type": "stream",
          "text": [
            "Logistic Regression:\n",
            "Accuracy: 0.7647058823529411\n",
            "F1 Score: 0.7651186790505676\n",
            "Classification Report:               precision    recall  f1-score   support\n",
            "\n",
            "           0       0.80      0.78      0.79       154\n",
            "           1       0.72      0.75      0.73       118\n",
            "\n",
            "    accuracy                           0.76       272\n",
            "   macro avg       0.76      0.76      0.76       272\n",
            "weighted avg       0.77      0.76      0.77       272\n",
            "\n",
            "Decision Tree:\n",
            "Accuracy: 0.7426470588235294\n",
            "F1 Score: 0.7409998395751688\n",
            "Classification Report:               precision    recall  f1-score   support\n",
            "\n",
            "           0       0.76      0.81      0.78       154\n",
            "           1       0.72      0.66      0.69       118\n",
            "\n",
            "    accuracy                           0.74       272\n",
            "   macro avg       0.74      0.73      0.74       272\n",
            "weighted avg       0.74      0.74      0.74       272\n",
            "\n",
            "Random Forest:\n",
            "Accuracy: 0.8161764705882353\n",
            "F1 Score: 0.8157701409476258\n",
            "Classification Report:               precision    recall  f1-score   support\n",
            "\n",
            "           0       0.83      0.85      0.84       154\n",
            "           1       0.80      0.77      0.78       118\n",
            "\n",
            "    accuracy                           0.82       272\n",
            "   macro avg       0.81      0.81      0.81       272\n",
            "weighted avg       0.82      0.82      0.82       272\n",
            "\n",
            "K-Nearest Neighbors:\n",
            "Accuracy: 0.7683823529411765\n",
            "F1 Score: 0.7693985095770103\n",
            "Classification Report:               precision    recall  f1-score   support\n",
            "\n",
            "           0       0.83      0.74      0.78       154\n",
            "           1       0.70      0.81      0.75       118\n",
            "\n",
            "    accuracy                           0.77       272\n",
            "   macro avg       0.77      0.77      0.77       272\n",
            "weighted avg       0.78      0.77      0.77       272\n",
            "\n",
            "Support Vector Machine:\n",
            "Accuracy: 0.7977941176470589\n",
            "F1 Score: 0.7982233236748132\n",
            "Classification Report:               precision    recall  f1-score   support\n",
            "\n",
            "           0       0.83      0.81      0.82       154\n",
            "           1       0.76      0.79      0.77       118\n",
            "\n",
            "    accuracy                           0.80       272\n",
            "   macro avg       0.79      0.80      0.80       272\n",
            "weighted avg       0.80      0.80      0.80       272\n",
            "\n",
            "Extreme Gradient Boosting:\n",
            "Accuracy: 0.8125\n",
            "F1 Score: 0.8117176128093159\n",
            "Classification Report:               precision    recall  f1-score   support\n",
            "\n",
            "           0       0.82      0.86      0.84       154\n",
            "           1       0.80      0.75      0.78       118\n",
            "\n",
            "    accuracy                           0.81       272\n",
            "   macro avg       0.81      0.81      0.81       272\n",
            "weighted avg       0.81      0.81      0.81       272\n",
            "\n"
          ]
        }
      ],
      "source": [
        "# Define models to fit and evaluate\n",
        "models = {\n",
        "    'Logistic Regression' : LogisticRegression(),\n",
        "    'Decision Tree' : DecisionTreeClassifier(),\n",
        "    'Random Forest' : RandomForestClassifier(n_estimators=200),\n",
        "    'K-Nearest Neighbors': KNeighborsClassifier(),\n",
        "    'Support Vector Machine': SVC(),\n",
        "    'Extreme Gradient Boosting': XGBClassifier()\n",
        "}\n",
        "\n",
        "# Fit and evaluate each model\n",
        "for name, model in models.items():\n",
        "    # Fit the model\n",
        "    model.fit(X_train_scaled_5, y_train_5)\n",
        "    \n",
        "    # Predict on test set\n",
        "    y_pred_5 = model.predict(X_val_scaled_5)\n",
        "    \n",
        "    # Print results\n",
        "    print(f'{name}:')\n",
        "    acc = accuracy_score(y_val_5, y_pred_5)\n",
        "    f1 = f1_score(y_val_5, y_pred_5, average='weighted')\n",
        "    report = classification_report(y_val_5, y_pred_5)\n",
        "    \n",
        "    print(\"Accuracy:\", acc)\n",
        "    print('F1 Score:', f1)\n",
        "    print('Classification Report:', report)\n"
      ]
    },
    {
      "cell_type": "markdown",
      "metadata": {
        "id": "FWzLhuyNcgFp"
      },
      "source": [
        "# Model Evaluation"
      ]
    },
    {
      "cell_type": "markdown",
      "metadata": {
        "id": "wAaeFjaARYrq"
      },
      "source": [
        "### Final Train"
      ]
    },
    {
      "cell_type": "code",
      "execution_count": 238,
      "metadata": {
        "colab": {
          "base_uri": "https://localhost:8080/"
        },
        "id": "HdEdjOgfmvCN",
        "outputId": "feb404a3-ef98-4759-c4bb-90c674fa656e"
      },
      "outputs": [
        {
          "data": {
            "text/plain": [
              "XGBClassifier()"
            ]
          },
          "execution_count": 238,
          "metadata": {},
          "output_type": "execute_result"
        }
      ],
      "source": [
        "model_1 = RandomForestClassifier(n_estimators=100)\n",
        "model_1.fit(X_1, y_1)\n",
        "\n",
        "model_2 = RandomForestClassifier(n_estimators=100)\n",
        "model_2.fit(X_2, y_2)\n",
        "\n",
        "model_3 = RandomForestClassifier(n_estimators=100)\n",
        "model_3.fit(X_3, y_3)\n",
        "\n",
        "model_4 = XGBClassifier()\n",
        "model_4.fit(X_4, y_4)\n",
        "\n",
        "model_5 = XGBClassifier()\n",
        "model_5.fit(X_5, y_5)"
      ]
    },
    {
      "cell_type": "markdown",
      "metadata": {
        "id": "bqPg_PXqEFA-"
      },
      "source": [
        "# Submission"
      ]
    },
    {
      "cell_type": "code",
      "execution_count": 239,
      "metadata": {
        "id": "0AI80hMezXg2"
      },
      "outputs": [],
      "source": [
        "X_test_1 = test_df_1.drop('Unnamed: 0', axis=1)\n",
        "X_test_2 = test_df_2.drop('Unnamed: 0', axis=1)\n",
        "X_test_3 = test_df_3.drop('Unnamed: 0', axis=1)\n",
        "X_test_4 = test_df_4.drop('Unnamed: 0', axis=1)\n",
        "X_test_5 = test_df_5.drop('Unnamed: 0', axis=1)"
      ]
    },
    {
      "cell_type": "code",
      "execution_count": 240,
      "metadata": {
        "id": "0A3_Iexg2cbs"
      },
      "outputs": [],
      "source": [
        "X_test_1.drop('CHEMBL_ID', axis=1, inplace=True)\n",
        "X_test_2.drop('CHEMBL_ID', axis=1, inplace=True)\n",
        "X_test_3.drop('CHEMBL_ID', axis=1, inplace=True)\n",
        "X_test_4.drop('CHEMBL_ID', axis=1, inplace=True)\n",
        "X_test_5.drop('CHEMBL_ID', axis=1, inplace=True)"
      ]
    },
    {
      "cell_type": "code",
      "execution_count": 241,
      "metadata": {
        "id": "f4y2Q8H741pE"
      },
      "outputs": [],
      "source": [
        "X_test_1 = X_test_1.fillna(0)\n",
        "X_test_2 = X_test_2.fillna(0)\n",
        "X_test_3 = X_test_3.fillna(0)\n",
        "X_test_4 = X_test_4.fillna(0)\n",
        "X_test_5 = X_test_5.fillna(0)"
      ]
    },
    {
      "cell_type": "code",
      "execution_count": 206,
      "metadata": {
        "id": "yRdcy7exCrtY"
      },
      "outputs": [],
      "source": [
        "X_test_1 = X_test_1[features_1]\n",
        "X_test_2 = X_test_2[features_2]\n",
        "X_test_3 = X_test_3[features_3]\n",
        "X_test_4 = X_test_4[features_4]\n",
        "X_test_5 = X_test_5[features4]"
      ]
    },
    {
      "cell_type": "code",
      "execution_count": 242,
      "metadata": {
        "id": "Cnw0-BVswX92"
      },
      "outputs": [],
      "source": [
        "y_test_pred_1 = model_1.predict(X_test_1)\n",
        "y_test_pred_2 = model_2.predict(X_test_2)\n",
        "y_test_pred_3 = model_3.predict(X_test_3)\n",
        "y_test_pred_4 = model_4.predict(X_test_4)\n",
        "y_test_pred_5 = model_5.predict(X_test_5)"
      ]
    },
    {
      "cell_type": "code",
      "execution_count": 243,
      "metadata": {
        "colab": {
          "base_uri": "https://localhost:8080/",
          "height": 206
        },
        "id": "z4ru-8VGzQQC",
        "outputId": "5d4de542-e997-49ea-8b58-625588ee453d"
      },
      "outputs": [
        {
          "data": {
            "text/html": [
              "\n",
              "  <div id=\"df-6868495a-6e9d-4a89-8da5-55c18cc14dbf\">\n",
              "    <div class=\"colab-df-container\">\n",
              "      <div>\n",
              "<style scoped>\n",
              "    .dataframe tbody tr th:only-of-type {\n",
              "        vertical-align: middle;\n",
              "    }\n",
              "\n",
              "    .dataframe tbody tr th {\n",
              "        vertical-align: top;\n",
              "    }\n",
              "\n",
              "    .dataframe thead th {\n",
              "        text-align: right;\n",
              "    }\n",
              "</style>\n",
              "<table border=\"1\" class=\"dataframe\">\n",
              "  <thead>\n",
              "    <tr style=\"text-align: right;\">\n",
              "      <th></th>\n",
              "      <th>Id</th>\n",
              "      <th>Activity</th>\n",
              "    </tr>\n",
              "  </thead>\n",
              "  <tbody>\n",
              "    <tr>\n",
              "      <th>0</th>\n",
              "      <td>CHEMBL2064389_1</td>\n",
              "      <td>active</td>\n",
              "    </tr>\n",
              "    <tr>\n",
              "      <th>1</th>\n",
              "      <td>CHEMBL3775897_1</td>\n",
              "      <td>active</td>\n",
              "    </tr>\n",
              "    <tr>\n",
              "      <th>2</th>\n",
              "      <td>CHEMBL4084868_1</td>\n",
              "      <td>active</td>\n",
              "    </tr>\n",
              "    <tr>\n",
              "      <th>3</th>\n",
              "      <td>CHEMBL2325098_1</td>\n",
              "      <td>active</td>\n",
              "    </tr>\n",
              "    <tr>\n",
              "      <th>4</th>\n",
              "      <td>CHEMBL2087358_1</td>\n",
              "      <td>active</td>\n",
              "    </tr>\n",
              "  </tbody>\n",
              "</table>\n",
              "</div>\n",
              "      <button class=\"colab-df-convert\" onclick=\"convertToInteractive('df-6868495a-6e9d-4a89-8da5-55c18cc14dbf')\"\n",
              "              title=\"Convert this dataframe to an interactive table.\"\n",
              "              style=\"display:none;\">\n",
              "        \n",
              "  <svg xmlns=\"http://www.w3.org/2000/svg\" height=\"24px\"viewBox=\"0 0 24 24\"\n",
              "       width=\"24px\">\n",
              "    <path d=\"M0 0h24v24H0V0z\" fill=\"none\"/>\n",
              "    <path d=\"M18.56 5.44l.94 2.06.94-2.06 2.06-.94-2.06-.94-.94-2.06-.94 2.06-2.06.94zm-11 1L8.5 8.5l.94-2.06 2.06-.94-2.06-.94L8.5 2.5l-.94 2.06-2.06.94zm10 10l.94 2.06.94-2.06 2.06-.94-2.06-.94-.94-2.06-.94 2.06-2.06.94z\"/><path d=\"M17.41 7.96l-1.37-1.37c-.4-.4-.92-.59-1.43-.59-.52 0-1.04.2-1.43.59L10.3 9.45l-7.72 7.72c-.78.78-.78 2.05 0 2.83L4 21.41c.39.39.9.59 1.41.59.51 0 1.02-.2 1.41-.59l7.78-7.78 2.81-2.81c.8-.78.8-2.07 0-2.86zM5.41 20L4 18.59l7.72-7.72 1.47 1.35L5.41 20z\"/>\n",
              "  </svg>\n",
              "      </button>\n",
              "      \n",
              "  <style>\n",
              "    .colab-df-container {\n",
              "      display:flex;\n",
              "      flex-wrap:wrap;\n",
              "      gap: 12px;\n",
              "    }\n",
              "\n",
              "    .colab-df-convert {\n",
              "      background-color: #E8F0FE;\n",
              "      border: none;\n",
              "      border-radius: 50%;\n",
              "      cursor: pointer;\n",
              "      display: none;\n",
              "      fill: #1967D2;\n",
              "      height: 32px;\n",
              "      padding: 0 0 0 0;\n",
              "      width: 32px;\n",
              "    }\n",
              "\n",
              "    .colab-df-convert:hover {\n",
              "      background-color: #E2EBFA;\n",
              "      box-shadow: 0px 1px 2px rgba(60, 64, 67, 0.3), 0px 1px 3px 1px rgba(60, 64, 67, 0.15);\n",
              "      fill: #174EA6;\n",
              "    }\n",
              "\n",
              "    [theme=dark] .colab-df-convert {\n",
              "      background-color: #3B4455;\n",
              "      fill: #D2E3FC;\n",
              "    }\n",
              "\n",
              "    [theme=dark] .colab-df-convert:hover {\n",
              "      background-color: #434B5C;\n",
              "      box-shadow: 0px 1px 3px 1px rgba(0, 0, 0, 0.15);\n",
              "      filter: drop-shadow(0px 1px 2px rgba(0, 0, 0, 0.3));\n",
              "      fill: #FFFFFF;\n",
              "    }\n",
              "  </style>\n",
              "\n",
              "      <script>\n",
              "        const buttonEl =\n",
              "          document.querySelector('#df-6868495a-6e9d-4a89-8da5-55c18cc14dbf button.colab-df-convert');\n",
              "        buttonEl.style.display =\n",
              "          google.colab.kernel.accessAllowed ? 'block' : 'none';\n",
              "\n",
              "        async function convertToInteractive(key) {\n",
              "          const element = document.querySelector('#df-6868495a-6e9d-4a89-8da5-55c18cc14dbf');\n",
              "          const dataTable =\n",
              "            await google.colab.kernel.invokeFunction('convertToInteractive',\n",
              "                                                     [key], {});\n",
              "          if (!dataTable) return;\n",
              "\n",
              "          const docLinkHtml = 'Like what you see? Visit the ' +\n",
              "            '<a target=\"_blank\" href=https://colab.research.google.com/notebooks/data_table.ipynb>data table notebook</a>'\n",
              "            + ' to learn more about interactive tables.';\n",
              "          element.innerHTML = '';\n",
              "          dataTable['output_type'] = 'display_data';\n",
              "          await google.colab.output.renderOutput(dataTable, element);\n",
              "          const docLink = document.createElement('div');\n",
              "          docLink.innerHTML = docLinkHtml;\n",
              "          element.appendChild(docLink);\n",
              "        }\n",
              "      </script>\n",
              "    </div>\n",
              "  </div>\n",
              "  "
            ],
            "text/plain": [
              "                Id Activity\n",
              "0  CHEMBL2064389_1   active\n",
              "1  CHEMBL3775897_1   active\n",
              "2  CHEMBL4084868_1   active\n",
              "3  CHEMBL2325098_1   active\n",
              "4  CHEMBL2087358_1   active"
            ]
          },
          "execution_count": 243,
          "metadata": {},
          "output_type": "execute_result"
        }
      ],
      "source": [
        "Sample = pd.read_csv('./sample3.csv')\n",
        "Sample.head()"
      ]
    },
    {
      "cell_type": "code",
      "execution_count": 208,
      "metadata": {
        "id": "Np7cOrIJ5bRG"
      },
      "outputs": [],
      "source": [
        "submission_df_1 = pd.DataFrame(y_test_pred_1, columns=['Activity'])\n",
        "submission_df_2 = pd.DataFrame(y_test_pred_2, columns=['Activity'])\n",
        "submission_df_3 = pd.DataFrame(y_test_pred_3, columns=['Activity'])\n",
        "submission_df_4 = pd.DataFrame(y_test_pred_4, columns=['Activity'])\n",
        "submission_df_5 = pd.DataFrame(y_test_pred_5, columns=['Activity'])"
      ]
    },
    {
      "cell_type": "code",
      "execution_count": 244,
      "metadata": {
        "id": "bJtF-GEi5t6r"
      },
      "outputs": [],
      "source": [
        "submission_df_1['Activity'] = submission_df_1['Activity'].map({1 : 'active' , 0 : 'nonactive'})\n",
        "submission_df_2['Activity'] = submission_df_2['Activity'].map({1 : 'active' , 0 : 'nonactive'})\n",
        "submission_df_3['Activity'] = submission_df_3['Activity'].map({1 : 'active' , 0 : 'nonactive'})\n",
        "submission_df_4['Activity'] = submission_df_4['Activity'].map({1 : 'active' , 0 : 'nonactive'})\n",
        "submission_df_5['Activity'] = submission_df_5['Activity'].map({1 : 'active' , 0 : 'nonactive'})"
      ]
    },
    {
      "cell_type": "code",
      "execution_count": 245,
      "metadata": {
        "id": "acy9rKykAD_Q"
      },
      "outputs": [],
      "source": [
        "submission_df_1 = pd.concat([test_df_1['CHEMBL_ID'] ,submission_df_1['Activity'] ], axis=1)\n",
        "submission_df_2 = pd.concat([test_df_2['CHEMBL_ID'] ,submission_df_2['Activity'] ], axis=1)\n",
        "submission_df_3 = pd.concat([test_df_3['CHEMBL_ID'] ,submission_df_3['Activity'] ], axis=1)\n",
        "submission_df_4 = pd.concat([test_df_4['CHEMBL_ID'] ,submission_df_4['Activity'] ], axis=1)\n",
        "submission_df_5 = pd.concat([test_df_5['CHEMBL_ID'] ,submission_df_5['Activity'] ], axis=1)"
      ]
    },
    {
      "cell_type": "code",
      "execution_count": 246,
      "metadata": {
        "id": "__pr3bUsThFZ"
      },
      "outputs": [],
      "source": [
        "submission_df = pd.concat([submission_df_1, submission_df_2, submission_df_3, submission_df_4, submission_df_5])"
      ]
    },
    {
      "cell_type": "code",
      "execution_count": 247,
      "metadata": {
        "colab": {
          "base_uri": "https://localhost:8080/",
          "height": 424
        },
        "id": "3aZ-_zLEUFep",
        "outputId": "8957a081-de52-45bf-e022-e69d2ab07ad7"
      },
      "outputs": [
        {
          "data": {
            "text/html": [
              "\n",
              "  <div id=\"df-4de096d5-6308-419c-8a51-3ea6b3d342b5\">\n",
              "    <div class=\"colab-df-container\">\n",
              "      <div>\n",
              "<style scoped>\n",
              "    .dataframe tbody tr th:only-of-type {\n",
              "        vertical-align: middle;\n",
              "    }\n",
              "\n",
              "    .dataframe tbody tr th {\n",
              "        vertical-align: top;\n",
              "    }\n",
              "\n",
              "    .dataframe thead th {\n",
              "        text-align: right;\n",
              "    }\n",
              "</style>\n",
              "<table border=\"1\" class=\"dataframe\">\n",
              "  <thead>\n",
              "    <tr style=\"text-align: right;\">\n",
              "      <th></th>\n",
              "      <th>Id</th>\n",
              "      <th>Activity</th>\n",
              "    </tr>\n",
              "  </thead>\n",
              "  <tbody>\n",
              "    <tr>\n",
              "      <th>0</th>\n",
              "      <td>CHEMBL2064389_1</td>\n",
              "      <td>NaN</td>\n",
              "    </tr>\n",
              "    <tr>\n",
              "      <th>1</th>\n",
              "      <td>CHEMBL3775897_1</td>\n",
              "      <td>NaN</td>\n",
              "    </tr>\n",
              "    <tr>\n",
              "      <th>2</th>\n",
              "      <td>CHEMBL4084868_1</td>\n",
              "      <td>NaN</td>\n",
              "    </tr>\n",
              "    <tr>\n",
              "      <th>3</th>\n",
              "      <td>CHEMBL2325098_1</td>\n",
              "      <td>NaN</td>\n",
              "    </tr>\n",
              "    <tr>\n",
              "      <th>4</th>\n",
              "      <td>CHEMBL2087358_1</td>\n",
              "      <td>NaN</td>\n",
              "    </tr>\n",
              "    <tr>\n",
              "      <th>...</th>\n",
              "      <td>...</td>\n",
              "      <td>...</td>\n",
              "    </tr>\n",
              "    <tr>\n",
              "      <th>5313</th>\n",
              "      <td>CHEMBL100553_5</td>\n",
              "      <td>NaN</td>\n",
              "    </tr>\n",
              "    <tr>\n",
              "      <th>5314</th>\n",
              "      <td>CHEMBL2204065_5</td>\n",
              "      <td>NaN</td>\n",
              "    </tr>\n",
              "    <tr>\n",
              "      <th>5315</th>\n",
              "      <td>CHEMBL1076476_5</td>\n",
              "      <td>NaN</td>\n",
              "    </tr>\n",
              "    <tr>\n",
              "      <th>5316</th>\n",
              "      <td>CHEMBL380889_5</td>\n",
              "      <td>NaN</td>\n",
              "    </tr>\n",
              "    <tr>\n",
              "      <th>5317</th>\n",
              "      <td>CHEMBL4170806_5</td>\n",
              "      <td>NaN</td>\n",
              "    </tr>\n",
              "  </tbody>\n",
              "</table>\n",
              "<p>5318 rows × 2 columns</p>\n",
              "</div>\n",
              "      <button class=\"colab-df-convert\" onclick=\"convertToInteractive('df-4de096d5-6308-419c-8a51-3ea6b3d342b5')\"\n",
              "              title=\"Convert this dataframe to an interactive table.\"\n",
              "              style=\"display:none;\">\n",
              "        \n",
              "  <svg xmlns=\"http://www.w3.org/2000/svg\" height=\"24px\"viewBox=\"0 0 24 24\"\n",
              "       width=\"24px\">\n",
              "    <path d=\"M0 0h24v24H0V0z\" fill=\"none\"/>\n",
              "    <path d=\"M18.56 5.44l.94 2.06.94-2.06 2.06-.94-2.06-.94-.94-2.06-.94 2.06-2.06.94zm-11 1L8.5 8.5l.94-2.06 2.06-.94-2.06-.94L8.5 2.5l-.94 2.06-2.06.94zm10 10l.94 2.06.94-2.06 2.06-.94-2.06-.94-.94-2.06-.94 2.06-2.06.94z\"/><path d=\"M17.41 7.96l-1.37-1.37c-.4-.4-.92-.59-1.43-.59-.52 0-1.04.2-1.43.59L10.3 9.45l-7.72 7.72c-.78.78-.78 2.05 0 2.83L4 21.41c.39.39.9.59 1.41.59.51 0 1.02-.2 1.41-.59l7.78-7.78 2.81-2.81c.8-.78.8-2.07 0-2.86zM5.41 20L4 18.59l7.72-7.72 1.47 1.35L5.41 20z\"/>\n",
              "  </svg>\n",
              "      </button>\n",
              "      \n",
              "  <style>\n",
              "    .colab-df-container {\n",
              "      display:flex;\n",
              "      flex-wrap:wrap;\n",
              "      gap: 12px;\n",
              "    }\n",
              "\n",
              "    .colab-df-convert {\n",
              "      background-color: #E8F0FE;\n",
              "      border: none;\n",
              "      border-radius: 50%;\n",
              "      cursor: pointer;\n",
              "      display: none;\n",
              "      fill: #1967D2;\n",
              "      height: 32px;\n",
              "      padding: 0 0 0 0;\n",
              "      width: 32px;\n",
              "    }\n",
              "\n",
              "    .colab-df-convert:hover {\n",
              "      background-color: #E2EBFA;\n",
              "      box-shadow: 0px 1px 2px rgba(60, 64, 67, 0.3), 0px 1px 3px 1px rgba(60, 64, 67, 0.15);\n",
              "      fill: #174EA6;\n",
              "    }\n",
              "\n",
              "    [theme=dark] .colab-df-convert {\n",
              "      background-color: #3B4455;\n",
              "      fill: #D2E3FC;\n",
              "    }\n",
              "\n",
              "    [theme=dark] .colab-df-convert:hover {\n",
              "      background-color: #434B5C;\n",
              "      box-shadow: 0px 1px 3px 1px rgba(0, 0, 0, 0.15);\n",
              "      filter: drop-shadow(0px 1px 2px rgba(0, 0, 0, 0.3));\n",
              "      fill: #FFFFFF;\n",
              "    }\n",
              "  </style>\n",
              "\n",
              "      <script>\n",
              "        const buttonEl =\n",
              "          document.querySelector('#df-4de096d5-6308-419c-8a51-3ea6b3d342b5 button.colab-df-convert');\n",
              "        buttonEl.style.display =\n",
              "          google.colab.kernel.accessAllowed ? 'block' : 'none';\n",
              "\n",
              "        async function convertToInteractive(key) {\n",
              "          const element = document.querySelector('#df-4de096d5-6308-419c-8a51-3ea6b3d342b5');\n",
              "          const dataTable =\n",
              "            await google.colab.kernel.invokeFunction('convertToInteractive',\n",
              "                                                     [key], {});\n",
              "          if (!dataTable) return;\n",
              "\n",
              "          const docLinkHtml = 'Like what you see? Visit the ' +\n",
              "            '<a target=\"_blank\" href=https://colab.research.google.com/notebooks/data_table.ipynb>data table notebook</a>'\n",
              "            + ' to learn more about interactive tables.';\n",
              "          element.innerHTML = '';\n",
              "          dataTable['output_type'] = 'display_data';\n",
              "          await google.colab.output.renderOutput(dataTable, element);\n",
              "          const docLink = document.createElement('div');\n",
              "          docLink.innerHTML = docLinkHtml;\n",
              "          element.appendChild(docLink);\n",
              "        }\n",
              "      </script>\n",
              "    </div>\n",
              "  </div>\n",
              "  "
            ],
            "text/plain": [
              "                   Id Activity\n",
              "0     CHEMBL2064389_1      NaN\n",
              "1     CHEMBL3775897_1      NaN\n",
              "2     CHEMBL4084868_1      NaN\n",
              "3     CHEMBL2325098_1      NaN\n",
              "4     CHEMBL2087358_1      NaN\n",
              "...               ...      ...\n",
              "5313   CHEMBL100553_5      NaN\n",
              "5314  CHEMBL2204065_5      NaN\n",
              "5315  CHEMBL1076476_5      NaN\n",
              "5316   CHEMBL380889_5      NaN\n",
              "5317  CHEMBL4170806_5      NaN\n",
              "\n",
              "[5318 rows x 2 columns]"
            ]
          },
          "execution_count": 247,
          "metadata": {},
          "output_type": "execute_result"
        }
      ],
      "source": [
        "submission_df = submission_df.reset_index()[['CHEMBL_ID','Activity']].rename(columns={\"CHEMBL_ID\": \"Id\"})\n",
        "submission_df"
      ]
    },
    {
      "cell_type": "code",
      "execution_count": 248,
      "metadata": {
        "id": "ff58QtyXVQEU"
      },
      "outputs": [],
      "source": [
        "submission_df.to_csv('submission.csv', index=False)"
      ]
    },
    {
      "cell_type": "code",
      "execution_count": 249,
      "metadata": {
        "colab": {
          "base_uri": "https://localhost:8080/",
          "height": 300
        },
        "id": "ozsroW_iViHl",
        "outputId": "3fe53a16-c280-46f1-ba35-c6182382ef68"
      },
      "outputs": [
        {
          "data": {
            "text/html": [
              "\n",
              "  <div id=\"df-93befe2a-f64c-491b-b31a-52180d1a5941\">\n",
              "    <div class=\"colab-df-container\">\n",
              "      <div>\n",
              "<style scoped>\n",
              "    .dataframe tbody tr th:only-of-type {\n",
              "        vertical-align: middle;\n",
              "    }\n",
              "\n",
              "    .dataframe tbody tr th {\n",
              "        vertical-align: top;\n",
              "    }\n",
              "\n",
              "    .dataframe thead th {\n",
              "        text-align: right;\n",
              "    }\n",
              "</style>\n",
              "<table border=\"1\" class=\"dataframe\">\n",
              "  <thead>\n",
              "    <tr style=\"text-align: right;\">\n",
              "      <th></th>\n",
              "      <th>Activity</th>\n",
              "    </tr>\n",
              "  </thead>\n",
              "  <tbody>\n",
              "    <tr>\n",
              "      <th>count</th>\n",
              "      <td>0.0</td>\n",
              "    </tr>\n",
              "    <tr>\n",
              "      <th>mean</th>\n",
              "      <td>NaN</td>\n",
              "    </tr>\n",
              "    <tr>\n",
              "      <th>std</th>\n",
              "      <td>NaN</td>\n",
              "    </tr>\n",
              "    <tr>\n",
              "      <th>min</th>\n",
              "      <td>NaN</td>\n",
              "    </tr>\n",
              "    <tr>\n",
              "      <th>25%</th>\n",
              "      <td>NaN</td>\n",
              "    </tr>\n",
              "    <tr>\n",
              "      <th>50%</th>\n",
              "      <td>NaN</td>\n",
              "    </tr>\n",
              "    <tr>\n",
              "      <th>75%</th>\n",
              "      <td>NaN</td>\n",
              "    </tr>\n",
              "    <tr>\n",
              "      <th>max</th>\n",
              "      <td>NaN</td>\n",
              "    </tr>\n",
              "  </tbody>\n",
              "</table>\n",
              "</div>\n",
              "      <button class=\"colab-df-convert\" onclick=\"convertToInteractive('df-93befe2a-f64c-491b-b31a-52180d1a5941')\"\n",
              "              title=\"Convert this dataframe to an interactive table.\"\n",
              "              style=\"display:none;\">\n",
              "        \n",
              "  <svg xmlns=\"http://www.w3.org/2000/svg\" height=\"24px\"viewBox=\"0 0 24 24\"\n",
              "       width=\"24px\">\n",
              "    <path d=\"M0 0h24v24H0V0z\" fill=\"none\"/>\n",
              "    <path d=\"M18.56 5.44l.94 2.06.94-2.06 2.06-.94-2.06-.94-.94-2.06-.94 2.06-2.06.94zm-11 1L8.5 8.5l.94-2.06 2.06-.94-2.06-.94L8.5 2.5l-.94 2.06-2.06.94zm10 10l.94 2.06.94-2.06 2.06-.94-2.06-.94-.94-2.06-.94 2.06-2.06.94z\"/><path d=\"M17.41 7.96l-1.37-1.37c-.4-.4-.92-.59-1.43-.59-.52 0-1.04.2-1.43.59L10.3 9.45l-7.72 7.72c-.78.78-.78 2.05 0 2.83L4 21.41c.39.39.9.59 1.41.59.51 0 1.02-.2 1.41-.59l7.78-7.78 2.81-2.81c.8-.78.8-2.07 0-2.86zM5.41 20L4 18.59l7.72-7.72 1.47 1.35L5.41 20z\"/>\n",
              "  </svg>\n",
              "      </button>\n",
              "      \n",
              "  <style>\n",
              "    .colab-df-container {\n",
              "      display:flex;\n",
              "      flex-wrap:wrap;\n",
              "      gap: 12px;\n",
              "    }\n",
              "\n",
              "    .colab-df-convert {\n",
              "      background-color: #E8F0FE;\n",
              "      border: none;\n",
              "      border-radius: 50%;\n",
              "      cursor: pointer;\n",
              "      display: none;\n",
              "      fill: #1967D2;\n",
              "      height: 32px;\n",
              "      padding: 0 0 0 0;\n",
              "      width: 32px;\n",
              "    }\n",
              "\n",
              "    .colab-df-convert:hover {\n",
              "      background-color: #E2EBFA;\n",
              "      box-shadow: 0px 1px 2px rgba(60, 64, 67, 0.3), 0px 1px 3px 1px rgba(60, 64, 67, 0.15);\n",
              "      fill: #174EA6;\n",
              "    }\n",
              "\n",
              "    [theme=dark] .colab-df-convert {\n",
              "      background-color: #3B4455;\n",
              "      fill: #D2E3FC;\n",
              "    }\n",
              "\n",
              "    [theme=dark] .colab-df-convert:hover {\n",
              "      background-color: #434B5C;\n",
              "      box-shadow: 0px 1px 3px 1px rgba(0, 0, 0, 0.15);\n",
              "      filter: drop-shadow(0px 1px 2px rgba(0, 0, 0, 0.3));\n",
              "      fill: #FFFFFF;\n",
              "    }\n",
              "  </style>\n",
              "\n",
              "      <script>\n",
              "        const buttonEl =\n",
              "          document.querySelector('#df-93befe2a-f64c-491b-b31a-52180d1a5941 button.colab-df-convert');\n",
              "        buttonEl.style.display =\n",
              "          google.colab.kernel.accessAllowed ? 'block' : 'none';\n",
              "\n",
              "        async function convertToInteractive(key) {\n",
              "          const element = document.querySelector('#df-93befe2a-f64c-491b-b31a-52180d1a5941');\n",
              "          const dataTable =\n",
              "            await google.colab.kernel.invokeFunction('convertToInteractive',\n",
              "                                                     [key], {});\n",
              "          if (!dataTable) return;\n",
              "\n",
              "          const docLinkHtml = 'Like what you see? Visit the ' +\n",
              "            '<a target=\"_blank\" href=https://colab.research.google.com/notebooks/data_table.ipynb>data table notebook</a>'\n",
              "            + ' to learn more about interactive tables.';\n",
              "          element.innerHTML = '';\n",
              "          dataTable['output_type'] = 'display_data';\n",
              "          await google.colab.output.renderOutput(dataTable, element);\n",
              "          const docLink = document.createElement('div');\n",
              "          docLink.innerHTML = docLinkHtml;\n",
              "          element.appendChild(docLink);\n",
              "        }\n",
              "      </script>\n",
              "    </div>\n",
              "  </div>\n",
              "  "
            ],
            "text/plain": [
              "       Activity\n",
              "count       0.0\n",
              "mean        NaN\n",
              "std         NaN\n",
              "min         NaN\n",
              "25%         NaN\n",
              "50%         NaN\n",
              "75%         NaN\n",
              "max         NaN"
            ]
          },
          "execution_count": 249,
          "metadata": {},
          "output_type": "execute_result"
        }
      ],
      "source": [
        "df = pd.read_csv('./submission.csv')\n",
        "df.describe()"
      ]
    }
  ],
  "metadata": {
    "colab": {
      "collapsed_sections": [
        "MDoRgn0w3ODD",
        "naPcmQaD5xNv",
        "nIIxCPTO9up-",
        "7ND-Tger-Zff",
        "JAFARAu2CSTF",
        "KPd4519QDE9d",
        "0oU9m5QLDb2X"
      ],
      "provenance": []
    },
    "kernelspec": {
      "display_name": "Python 3",
      "name": "python3"
    },
    "language_info": {
      "name": "python"
    }
  },
  "nbformat": 4,
  "nbformat_minor": 0
}
